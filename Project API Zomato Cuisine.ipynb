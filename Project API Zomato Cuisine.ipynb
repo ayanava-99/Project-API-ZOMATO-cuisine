{
 "cells": [
  {
   "cell_type": "markdown",
   "metadata": {},
   "source": [
    "## Zomato Cuisine 1.1"
   ]
  },
  {
   "cell_type": "markdown",
   "metadata": {},
   "source": [
    "#### Fetch the cuisine_id of ‘Mexican’ cuisine using Zomato API.\n",
    "#### Print the cuisine_id.    "
   ]
  },
  {
   "cell_type": "code",
   "execution_count": 1,
   "metadata": {},
   "outputs": [
    {
     "name": "stdout",
     "output_type": "stream",
     "text": [
      "549\n",
      "1345\n",
      "19265141\n",
      "19119416\n",
      "19215892\n",
      "19030058\n",
      "19192594\n",
      "18945610\n",
      "18596159\n",
      "18968085\n",
      "18556690\n",
      "18778492\n",
      "19105120\n",
      "18700987\n",
      "19121180\n",
      "19199608\n",
      "19156033\n",
      "19214889\n",
      "19190008\n",
      "19186533\n"
     ]
    }
   ],
   "source": [
    "import requests\n",
    "\n",
    "h = {'user-key' : 'a6e0142cda800d18ad52d65649840fcd'}\n",
    "p = {'entity_id' : 1, 'entity_type' : 'city', 'lat' : 28.697569, 'lon' : 77.140665, 'radius' : 4000, 'sort' : 'rating'}\n",
    "\n",
    "r = requests.get('https://developers.zomato.com/api/v2.1/search', headers = h, params = p)\n",
    "\n",
    "count = 1\n",
    "for i in r.json()['restaurants']:\n",
    "    print( \n",
    "          i['restaurant']['R']['res_id'])\n",
    "    "
   ]
  },
  {
   "cell_type": "markdown",
   "metadata": {},
   "source": [
    "## Zomato Cuisine 1.3"
   ]
  },
  {
   "cell_type": "markdown",
   "metadata": {},
   "source": [
    "#### Fetch the entityid and entitytype of place Connaught Place.\n",
    "#### Print the entityid and entitytype"
   ]
  },
  {
   "cell_type": "code",
   "execution_count": 2,
   "metadata": {},
   "outputs": [
    {
     "name": "stdout",
     "output_type": "stream",
     "text": [
      "549\n",
      "1345\n",
      "19265141\n",
      "19119416\n",
      "19215892\n",
      "19030058\n",
      "19192594\n",
      "18945610\n",
      "18596159\n",
      "18968085\n",
      "18556690\n",
      "18778492\n",
      "19105120\n",
      "18700987\n",
      "19121180\n",
      "19199608\n",
      "19156033\n",
      "19214889\n",
      "19190008\n",
      "19186533\n"
     ]
    }
   ],
   "source": [
    "import requests\n",
    "\n",
    "h = {'user-key' : 'a6e0142cda800d18ad52d65649840fcd'}\n",
    "p = {'entity_id' : 1, 'entity_type' : 'city', 'lat' : 28.697569, 'lon' : 77.140665, 'radius' : 4000, 'sort' : 'rating'}\n",
    "\n",
    "r = requests.get('https://developers.zomato.com/api/v2.1/search', headers = h, params = p)\n",
    "\n",
    "count = 1\n",
    "for i in r.json()['restaurants']:\n",
    "    print( \n",
    "          i['restaurant']['R']['res_id'])"
   ]
  },
  {
   "cell_type": "markdown",
   "metadata": {},
   "source": [
    "## Zomato Cuisine 1.4"
   ]
  },
  {
   "cell_type": "markdown",
   "metadata": {},
   "source": [
    "#### Fetch the top 10 best-rated restaurant serving ‘Mexican’ cuisine present in Connaught Place.\n",
    "#### Print the restaurant name, user rating and restaurant id."
   ]
  },
  {
   "cell_type": "code",
   "execution_count": 7,
   "metadata": {},
   "outputs": [
    {
     "name": "stdout",
     "output_type": "stream",
     "text": [
      "Odeon Social 4.7 18246991\n",
      "38 Barracks 4.7 18241537\n",
      "Ministry Of Beer 4.6 18418277\n",
      "Chili's Grill & Bar 4.5 18537536\n",
      "Xero Degrees 4.4 18729557\n",
      "Detroit 4.4 18625812\n",
      "Station Bar 4.4 18851371\n",
      "The Darzi Bar & Kitchen 4.3 18423151\n",
      "The Junkyard Cafe 4.3 313256\n",
      "The Luggage Room Kitchen And Bar 4.3 18337893\n"
     ]
    }
   ],
   "source": [
    "import requests\n",
    "h={'user-key':'07adec2c50dd0fe4adee163b0fe1b35a'}\n",
    "response=requests.get('https://developers.zomato.com/api/v2.1/search?'+\n",
    "                      'entity_id=104&entity_type=subzone&count=10&cuisines=73&sort=rating&order=desc',\n",
    "                      headers=h,params={'user-key':'07adec2c50dd0fe4adee163b0fe1b35a'})\n",
    "r=response.json()\n",
    "n=r['restaurants']\n",
    "for i in n:\n",
    "    new_val=i['restaurant']\n",
    "    name=new_val['name']\n",
    "    rating=new_val['user_rating']['aggregate_rating']\n",
    "    res_id=new_val['id']\n",
    "    print(name,rating,res_id)"
   ]
  },
  {
   "cell_type": "markdown",
   "metadata": {},
   "source": [
    "## Zomato Cuisine 1.5"
   ]
  },
  {
   "cell_type": "markdown",
   "metadata": {},
   "source": [
    "#### Fetch the category id of category type ‘Cafes’ using Zomato API.\n",
    "#### Print the category_id."
   ]
  },
  {
   "cell_type": "code",
   "execution_count": 8,
   "metadata": {},
   "outputs": [
    {
     "name": "stdout",
     "output_type": "stream",
     "text": [
      "6\n"
     ]
    }
   ],
   "source": [
    "import requests\n",
    "h={'user-key':'07adec2c50dd0fe4adee163b0fe1b35a'}\n",
    "response=requests.get('https://developers.zomato.com/api/v2.1/categories',\n",
    "                      headers=h,params={'user-key':'07adec2c50dd0fe4adee163b0fe1b35a'})\n",
    "r=response.json()\n",
    "new=r['categories']\n",
    "for i in new:\n",
    "    new_val=i['categories']\n",
    "    if new_val['name']=='Cafes':\n",
    "        print(new_val['id'])\n",
    "\n"
   ]
  },
  {
   "cell_type": "markdown",
   "metadata": {},
   "source": [
    "## Zomato Cuisine 1.6"
   ]
  },
  {
   "cell_type": "markdown",
   "metadata": {},
   "source": [
    "#### Fetch the best-rated restaurant for ‘Mexican’ cuisine with category type ‘ Cafes’ present in Connaught Place using Zomato API.\n",
    "#### Print the restaurant name, user rating and restaurant id."
   ]
  },
  {
   "cell_type": "code",
   "execution_count": 10,
   "metadata": {},
   "outputs": [
    {
     "name": "stdout",
     "output_type": "stream",
     "text": [
      "38 Barracks 4.7 18241537\n",
      "Xero Degrees 4.4 18729557\n",
      "The Art House Bar n Cafe 4.3 18863766\n",
      "Chaayos 4.0 18237315\n",
      "Cafe Delhi Heights 4.0 18579363\n",
      "Cafe Coffee Day - The Square 3.8 303034\n"
     ]
    }
   ],
   "source": [
    "import requests\n",
    "h={'user-key':'07adec2c50dd0fe4adee163b0fe1b35a'}\n",
    "response=requests.get('https://developers.zomato.com/api/v2.1/categories',\n",
    "                      headers=h,params={'user-key':'07adec2c50dd0fe4adee163b0fe1b35a'})\n",
    "r=response.json()\n",
    "n=r['categories']\n",
    "for i in n:\n",
    "    new_val=i['categories']\n",
    "    if new_val['name']=='Cafes':\n",
    "        cat_id=new_val['id']\n",
    "response=requests.get('https://developers.zomato.com/api/v2.1/search?entity_id=104&entity_type=subzone&count=10&'+\n",
    "                      'cuisines=73&category=6&sort=rating&order=desc',\n",
    "                      headers=h,params={'user-key':'07adec2c50dd0fe4adee163b0fe1b35a'})\n",
    "r=response.json()\n",
    "n=r['restaurants']\n",
    "for i in n:\n",
    "    new_val=i['restaurant']\n",
    "    name=new_val['name']\n",
    "    rating=new_val['user_rating']['aggregate_rating']\n",
    "    res_id=new_val['id']\n",
    "    print(name,rating,res_id)"
   ]
  },
  {
   "cell_type": "markdown",
   "metadata": {},
   "source": [
    "## Zomato Cuisine 1.7"
   ]
  },
  {
   "cell_type": "markdown",
   "metadata": {},
   "source": [
    "#### Fetch the latest review of the best-rated restaurant for ‘Mexican’ cuisine with Category type ‘Cafes’ present in Connaught Place using Zomato API.\n",
    "#### Print the name of user ,user rating and review text."
   ]
  },
  {
   "cell_type": "code",
   "execution_count": 15,
   "metadata": {},
   "outputs": [
    {
     "name": "stdout",
     "output_type": "stream",
     "text": [
      "Harshal Tyagi 3 Ambience was really good But the staff was not nice. They were impolite Service was slow too Food was tasty but shakes were not that good!\n",
      "Rishi Malik 5 Very courteous staff. Awesome food, refreshing drinks and perfect ambience. Liked everything about 38 barracks. Enjoyed a lot with my family.\n",
      "Mansi Bhutani 5 Wonderful first experience. Awesome live music.\n",
      "Ruchi Rustagi 4 Went here with friends to celebrate a friends birthday.dj was good and ambience  was nice . We ordered Thai roll ,chilli chicken , non-veg platter.Food was tasty and upto the mark.Good place for reunion and hangout with friends .Its located in the outer circle .\n",
      "Zara Khan 5 The food was absolutely wonderful. setisfectory services . Awesome place for favourite food with small budget.\n"
     ]
    }
   ],
   "source": [
    "import requests\n",
    "import json\n",
    "header={\"user-key\":\"db5cc0c3fa8e6679c4f19aeb201c1c0c\"}\n",
    "para2={\"res_id\":18241537}\n",
    "b=requests.get(\"https://developers.zomato.com/api/v2.1/reviews\",params=para2,headers=header)\n",
    "pdata=json.loads(b.text)\n",
    "# pprint.pprint(pdata['user_reviews'])\n",
    "for i in pdata['user_reviews']:\n",
    "    print(i['review']['user']['name'],end=' ')\n",
    "    print(i['review']['rating'],end=' ')\n",
    "    print(i['review']['review_text'])\n",
    "   "
   ]
  },
  {
   "cell_type": "markdown",
   "metadata": {},
   "source": [
    "## Zomato Restaurant 2.2"
   ]
  },
  {
   "cell_type": "markdown",
   "metadata": {},
   "source": [
    "#### Fetch the details of restaurant 736 AD using Zomato API.\n",
    "#### Print the user rating, average cost for two, cuisines and address of 736 AD."
   ]
  },
  {
   "cell_type": "code",
   "execution_count": 17,
   "metadata": {},
   "outputs": [
    {
     "name": "stdout",
     "output_type": "stream",
     "text": [
      "4.0\n",
      "1400\n",
      "North Indian, Continental, Italian, Chinese, Momos\n",
      "G-15/B, Vijay Nagar, New Delhi\n"
     ]
    }
   ],
   "source": [
    "import requests\n",
    "h={'user-key':'07adec2c50dd0fe4adee163b0fe1b35a'}\n",
    "response=requests.get('https://developers.zomato.com/api/v2.1/restaurant?res_id=18241524',\n",
    "                      headers=h,params={'user-key':'07adec2c50dd0fe4adee163b0fe1b35a'})\n",
    "r=response.json()\n",
    "new_val=r\n",
    "rating=new_val['user_rating']['aggregate_rating']\n",
    "average_cost=new_val['average_cost_for_two']\n",
    "cuis=new_val['cuisines']\n",
    "address=new_val['location']['address']\n",
    "print(rating)\n",
    "print(average_cost)\n",
    "print(cuis)\n",
    "print(address)\n"
   ]
  },
  {
   "cell_type": "markdown",
   "metadata": {},
   "source": [
    "## Zomato Restaurant 2.4"
   ]
  },
  {
   "cell_type": "markdown",
   "metadata": {},
   "source": [
    "#### Fetch the latest review of restaurant 736 AD using Zomato API.\n",
    "#### Print the name of user ,user rating and review text."
   ]
  },
  {
   "cell_type": "code",
   "execution_count": 18,
   "metadata": {},
   "outputs": [
    {
     "name": "stdout",
     "output_type": "stream",
     "text": [
      "DilMeDilli 4 The most famous cafe of GTB Nagar the 736 A.D. With the best crowed food drinks served 😍 i love the penny mix sauce pasta the most over here\n",
      "Vanyasharma1209 5 I had a tandoori platter over there, it was really amazing. Quantity was also good enough for two. The place was also nice and service was really good. Must go and tryout something.\n",
      "Swadisht.food 5 I had chilly paneer, white sauce pasta, pan fried momos and margheritta. Every dish was just perfect. I loved the pan fried momos personally. This place is quite lit for it’s DJ too. Must visit when in Vijay Nagar.\n",
      "Hungry Cat 4 The experience was great. This place is amazing with a good music and ambience. We tried their special sizzler, veg noodles, dry manchurian, chilli potatoes on a rainy day. It really fell warm.\n",
      "Bundelaofficial 5 What a lovely place guys. Manage to try multiple food like pizza, Spring roll, momo, corn nuggets and bira. Ambiance was also top notch\n"
     ]
    }
   ],
   "source": [
    "import requests\n",
    "import json\n",
    "header={\"user-key\":\"db5cc0c3fa8e6679c4f19aeb201c1c0c\"}\n",
    "para2={\"res_id\":18241524}\n",
    "b=requests.get(\"https://developers.zomato.com/api/v2.1/reviews\",params=para2,headers=header)\n",
    "pdata=json.loads(b.text)\n",
    "# pprint.pprint(pdata['user_reviews'])\n",
    "for i in pdata['user_reviews']:\n",
    "    print(i['review']['user']['name'],end=' ')\n",
    "    print(i['review']['rating'],end=' ')\n",
    "    print(i['review']['review_text'])"
   ]
  },
  {
   "cell_type": "markdown",
   "metadata": {},
   "source": [
    "## Zomato distance 3.1"
   ]
  },
  {
   "cell_type": "markdown",
   "metadata": {},
   "source": [
    "#### Fetch the cuisine_id of of cuisine ‘BBQ’ using Zomato API.\n",
    "#### Print the cuisine_id"
   ]
  },
  {
   "cell_type": "code",
   "execution_count": 19,
   "metadata": {},
   "outputs": [
    {
     "name": "stdout",
     "output_type": "stream",
     "text": [
      "193\n"
     ]
    }
   ],
   "source": [
    "import requests\n",
    "h={'user-key':'07adec2c50dd0fe4adee163b0fe1b35a'}\n",
    "response=requests.get('https://developers.zomato.com/api/v2.1/cities?q=DELHI',\n",
    "                      headers=h,params={'user-key':'07adec2c50dd0fe4adee163b0fe1b35a'})\n",
    "r=response.json()\n",
    "new_r=r['location_suggestions']\n",
    "for i in new_r:\n",
    "    new_id=i['id']\n",
    "    break\n",
    "response=requests.get('https://developers.zomato.com/api/v2.1/cuisines?city_id='+str(new_id),\n",
    "                      headers=h,params={'user-key':'07adec2c50dd0fe4adee163b0fe1b35a'})\n",
    "r=response.json()\n",
    "for i in r['cuisines']:\n",
    "    new=i['cuisine']\n",
    "    if new['cuisine_name']=='BBQ':\n",
    "        print(new['cuisine_id'])\n",
    "        "
   ]
  },
  {
   "cell_type": "markdown",
   "metadata": {},
   "source": [
    "## Zomato distance 3.2"
   ]
  },
  {
   "cell_type": "markdown",
   "metadata": {},
   "source": [
    "#### Fetch the list of the top 10 restaurants serving cuisine ‘BBQ’ which are nearest to Coding Ninjas.\n",
    "#### Print the restaurant name, user rating, restaurant id and locality in which restaurant is present."
   ]
  },
  {
   "cell_type": "code",
   "execution_count": 23,
   "metadata": {},
   "outputs": [
    {
     "name": "stdout",
     "output_type": "stream",
     "text": [
      "Themis Barbecue House 4.7 18204820 Netaji Subhash Place\n",
      "Barbeque Nation 4.2 9561 Netaji Subhash Place\n",
      "Bengal Bar-Be-Que 3.5 19250749 Pitampura\n",
      "New Bombay Bar-Be-Que 3.5 5303 Prashant Vihar\n",
      "Changezi Bar-be-que & Mughlai 0 19050115 Rohini\n",
      "Kays Bar-Be-Que 3.8 3079 Ashok Vihar Phase 1\n",
      "Picnick Scooter Cafe 0 19149978 Punjabi Bagh\n",
      "Chicken Adda 0 19179179 Rohini\n",
      "7teen BBQ Bistro Bnq 3.8 18595610 Moti Nagar\n",
      "Pishori Chicken 0 19061375 Kirti Nagar\n"
     ]
    }
   ],
   "source": [
    "import requests\n",
    "h={'user-key':'07adec2c50dd0fe4adee163b0fe1b35a'}\n",
    "response=requests.get('https://developers.zomato.com/api/v2.1/search?count=10&lat=28.697776&lon=77.1406&'+\n",
    "                      'cuisines=193&sort=real_distance&order=asc',\n",
    "                      headers=h,params={'user-key':'07adec2c50dd0fe4adee163b0fe1b35a'})\n",
    "r=response.json()\n",
    "n=r['restaurants']\n",
    "for i in n:\n",
    "    new_val=i['restaurant']\n",
    "    name=new_val['name']\n",
    "    rating=new_val['user_rating']['aggregate_rating']\n",
    "    res_id=new_val['id']\n",
    "    locality=new_val['location']['locality']\n",
    "    print(name,rating,res_id,locality)"
   ]
  },
  {
   "cell_type": "markdown",
   "metadata": {},
   "source": [
    "## Zomato distance 3.3"
   ]
  },
  {
   "cell_type": "markdown",
   "metadata": {},
   "source": [
    "#### Fetch the latest review of the restaurant serving cuisine ‘BBQ’ which is most nearest to Coding ninjas?\n",
    "#### Print the name of user ,user rating and review text."
   ]
  },
  {
   "cell_type": "code",
   "execution_count": 24,
   "metadata": {},
   "outputs": [
    {
     "name": "stdout",
     "output_type": "stream",
     "text": [
      "Rohit Shyara 5 THEMIS BARBEQUE is one of the best and cheerful place located in nsp delhi...and near yo nsp metro station. Amazing Ambience and nice view from rooftop...Now talking about food honestly do not have words to explain so many dishes are there infact you are confused which one to eat firstly but literally guys all the food stuff are really amazing... and you can have cocktail too we ordered pineapple tikka , mushroom tikka , paneer tikka all are mouthwatering sitting arrangement is also nice both indoor and outdoor seating available... if i get a chance to visit again soni definitely go there..!! service 4/5 ambience 4/5  kiwi mocktail and virgin mojito 4/5\n",
      "Babu Beg 5 Veg starters were good. No waiting time, comfortable seating and ambience. Prompt service. Food is tasty. Main course was little less tempting but by then we were full too. So dint have much of main course. They had a live pasta counter and kids enjoyed cooking their own meal. Over all a nice visit!!\n",
      "Aditi Khatri 5 \n",
      "Aanya Agarwal 5 \n",
      "Stalkerr_foodiee 4 So i have been here 3 days before with my friend to have a wonderful afternoon meal..and this place exceeded all our expectations❤❤  Right from the starters which included paneer tikka ,mushroom tikka to capsicum pizza everything was fabulous..  In the main course they have buffet system..the food was quite good  Best thing was their live band Wonderful and nice place💘\n"
     ]
    }
   ],
   "source": [
    "import pprint\n",
    "import requests\n",
    "import json\n",
    "header={\"user-key\":\"db5cc0c3fa8e6679c4f19aeb201c1c0c\"}\n",
    "para={\"lat\":28.697758,\"lon\":77.140643,\"cuisines\":193,\"sort\":\"real_distance\",\"order\":\"asc\"}\n",
    "a=requests.get(\"https://developers.zomato.com/api/v2.1/search\",params=para,headers=header)\n",
    "pdata=json.loads(a.text)\n",
    "counter=0\n",
    "res_id=pdata['restaurants'][0]['restaurant']['R']['res_id']\n",
    "\n",
    "\n",
    "para2={\"res_id\":res_id}\n",
    "b=requests.get(\"https://developers.zomato.com/api/v2.1/reviews\",params=para2,headers=header)\n",
    "pdata=json.loads(b.text)\n",
    "# pprint.pprint(pdata['user_reviews'])\n",
    "for i in pdata['user_reviews']:\n",
    "    print(i['review']['user']['name'],end=' ')\n",
    "    print(i['review']['rating'],end=' ')\n",
    "    print(i['review']['review_text'])"
   ]
  },
  {
   "cell_type": "markdown",
   "metadata": {},
   "source": [
    "## Zomato distance 3.4"
   ]
  },
  {
   "cell_type": "markdown",
   "metadata": {},
   "source": [
    "#### Experiment with the radius parameter that is present in ‘GET/search’. Fetch the list of top 10 best-restaurant present in a radius of 4 km of coding ninjas.\n",
    "#### Print the restaurant name, user rating, restaurant id and locality in which restaurant is present."
   ]
  },
  {
   "cell_type": "code",
   "execution_count": 25,
   "metadata": {},
   "outputs": [
    {
     "name": "stdout",
     "output_type": "stream",
     "text": [
      "Dana Choga 4.9 549 Sector 14\n",
      "The Yellow Chilli 4.9 1345 Pacific Mall, Sahibabad\n",
      "Big Bang City 4.9 19265141 Janpath\n",
      "The Fat Mermaid 4.9 19119416 Anand Vihar\n",
      "Punks Of Kebabs 4.9 19215892 Subhash Nagar\n",
      "InstaBowl 4.9 19030058 Sector 110\n",
      "Nihari Wala 4.9 19192594 Jaipuria Plaza, Sector 26, Noida\n",
      "Ah So Yum 4.8 18945610 Golf Course Road\n",
      "SashMicks Bakery 4.8 18596159 Indirapuram Habitat Centre, Indirapuram\n",
      "HOP House Of Proteins 4.8 18968085 Malviya Nagar\n"
     ]
    }
   ],
   "source": [
    "import requests\n",
    "h={'user-key':'07adec2c50dd0fe4adee163b0fe1b35a'}\n",
    "response=requests.get('https://developers.zomato.com/api/v2.1/search?lat=28.697776&lon=77.1406&radius=4000',\n",
    "                      headers=h,params={'user-key':'07adec2c50dd0fe4adee163b0fe1b35a','sort':'rating',\n",
    "                                        'count':10})\n",
    "r=response.json()\n",
    "new=r['restaurants']\n",
    "for i in new:\n",
    "    new_val=i['restaurant']\n",
    "    name=new_val['name']\n",
    "    user_rating=new_val['user_rating']['aggregate_rating']\n",
    "    res_id=new_val['id']\n",
    "    locality=new_val['location']['locality']\n",
    "    print(name,user_rating,res_id,locality)"
   ]
  },
  {
   "cell_type": "code",
   "execution_count": null,
   "metadata": {},
   "outputs": [],
   "source": []
  }
 ],
 "metadata": {
  "kernelspec": {
   "display_name": "Python 3",
   "language": "python",
   "name": "python3"
  },
  "language_info": {
   "codemirror_mode": {
    "name": "ipython",
    "version": 3
   },
   "file_extension": ".py",
   "mimetype": "text/x-python",
   "name": "python",
   "nbconvert_exporter": "python",
   "pygments_lexer": "ipython3",
   "version": "3.7.4"
  }
 },
 "nbformat": 4,
 "nbformat_minor": 2
}
